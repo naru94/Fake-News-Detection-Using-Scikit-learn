{
 "cells": [
  {
   "cell_type": "code",
   "execution_count": 1,
   "id": "7dd51f0a",
   "metadata": {},
   "outputs": [],
   "source": [
    "# Import Modules\n",
    "# pip install newsapi-python\n",
    "from newsapi import NewsApiClient\n",
    "import random\n",
    "from datetime import datetime, timedelta"
   ]
  },
  {
   "cell_type": "code",
   "execution_count": 2,
   "id": "7e7e95bb",
   "metadata": {},
   "outputs": [],
   "source": [
    "# API - 61d7b1d842414eb1a94ff375b20d24ff\n",
    "prev_date = datetime.today() - timedelta(days=30)\n",
    "next_date = datetime.today() - timedelta(days=0)\n",
    "p_date = str(prev_date.year)+'-'+'0'+str(prev_date.month)+'-'+'0'+str(prev_date.day)\n",
    "c_date = str(next_date.year)+'-'+'0'+str(next_date.month)+'-'+'0'+str(next_date.day)"
   ]
  },
  {
   "cell_type": "code",
   "execution_count": 3,
   "id": "636e096e",
   "metadata": {},
   "outputs": [],
   "source": [
    "# Create a Get News Method\n",
    "newsapi = NewsApiClient(api_key='61d7b1d842414eb1a94ff375b20d24ff')\n",
    "def getNews(sourceId):\n",
    "    newses = newsapi.get_everything(sources=sourceId,\n",
    "                                    domains='bbc.co.uk, techcrunch.com',\n",
    "                                    from_param=p_date,\n",
    "                                    to=c_date,\n",
    "                                    language='en',\n",
    "                                    sort_by='relevancy',\n",
    "                                    page=2)\n",
    "    newsData = []\n",
    "    for news in newses['articles']:\n",
    "        list = [random.randint(0, 1000), news['title'],news['content'], 'REAL']\n",
    "        newsData.append(list)\n",
    "    return newsData"
   ]
  },
  {
   "cell_type": "code",
   "execution_count": 4,
   "id": "23449877",
   "metadata": {},
   "outputs": [
    {
     "name": "stdout",
     "output_type": "stream",
     "text": [
      "New Sources:  ['abc-news', 'abc-news-au', 'aftenposten', 'al-jazeera-english', 'ansa', 'argaam', 'ars-technica', 'ary-news', 'associated-press', 'australian-financial-review']\n"
     ]
    }
   ],
   "source": [
    "# Get News Sources\n",
    "sources = newsapi.get_sources()\n",
    "sourceList = []\n",
    "for source in sources['sources']:\n",
    "    sourceList.append(source['id'])\n",
    "del sourceList[10:len(sourceList)]\n",
    "print('New Sources: ', sourceList)"
   ]
  },
  {
   "cell_type": "code",
   "execution_count": 5,
   "id": "600d8396",
   "metadata": {},
   "outputs": [
    {
     "name": "stdout",
     "output_type": "stream",
     "text": [
      "Total News:  1000\n"
     ]
    }
   ],
   "source": [
    "# Get News using Multiple Sources\n",
    "dataList = []\n",
    "for sourceId in sourceList:\n",
    "    newses = getNews(sourceId)\n",
    "    dataList = dataList + newses\n",
    "\n",
    "print('Total News: ', len(dataList))"
   ]
  },
  {
   "cell_type": "code",
   "execution_count": 6,
   "id": "c05329c0",
   "metadata": {},
   "outputs": [],
   "source": [
    "# Create a DataFrame of News\n",
    "import pandas as pd\n",
    "df = pd.DataFrame.from_records(dataList)\n",
    "df.columns = ['','title','text','label']"
   ]
  },
  {
   "cell_type": "code",
   "execution_count": 7,
   "id": "e6b9ce97",
   "metadata": {},
   "outputs": [],
   "source": [
    "# Load and Concat the DataFrame\n",
    "trainData = pd.read_csv('dataset/news.csv')\n",
    "trainData.columns = ['', 'title', 'text', 'label']\n",
    "data = [trainData, df]\n",
    "df = pd.concat(data)"
   ]
  },
  {
   "cell_type": "code",
   "execution_count": 8,
   "id": "92a418e7",
   "metadata": {},
   "outputs": [],
   "source": [
    "# Import Scikit Modules\n",
    "from sklearn.model_selection import train_test_split\n",
    "from sklearn.metrics import accuracy_score\n",
    "from sklearn.feature_extraction.text import CountVectorizer\n",
    "from sklearn.linear_model import PassiveAggressiveClassifier"
   ]
  },
  {
   "cell_type": "code",
   "execution_count": 9,
   "id": "f5c9cce4",
   "metadata": {},
   "outputs": [],
   "source": [
    "# Split the Training and Testing Data\n",
    "training_x, testing_x, training_y, testing_y = train_test_split(\n",
    "    df['text'], df.label, test_size=0.3, random_state=100)"
   ]
  },
  {
   "cell_type": "code",
   "execution_count": 10,
   "id": "6b972779",
   "metadata": {},
   "outputs": [],
   "source": [
    "# Feature Selection\n",
    "count_vectorizer = CountVectorizer(stop_words='english', max_df=0.7)\n",
    "feature_train = count_vectorizer.fit_transform(training_x)\n",
    "feature_test = count_vectorizer.transform(testing_x)"
   ]
  },
  {
   "cell_type": "code",
   "execution_count": 11,
   "id": "a3277f57",
   "metadata": {},
   "outputs": [
    {
     "data": {
      "text/html": [
       "<style>#sk-container-id-1 {color: black;background-color: white;}#sk-container-id-1 pre{padding: 0;}#sk-container-id-1 div.sk-toggleable {background-color: white;}#sk-container-id-1 label.sk-toggleable__label {cursor: pointer;display: block;width: 100%;margin-bottom: 0;padding: 0.3em;box-sizing: border-box;text-align: center;}#sk-container-id-1 label.sk-toggleable__label-arrow:before {content: \"▸\";float: left;margin-right: 0.25em;color: #696969;}#sk-container-id-1 label.sk-toggleable__label-arrow:hover:before {color: black;}#sk-container-id-1 div.sk-estimator:hover label.sk-toggleable__label-arrow:before {color: black;}#sk-container-id-1 div.sk-toggleable__content {max-height: 0;max-width: 0;overflow: hidden;text-align: left;background-color: #f0f8ff;}#sk-container-id-1 div.sk-toggleable__content pre {margin: 0.2em;color: black;border-radius: 0.25em;background-color: #f0f8ff;}#sk-container-id-1 input.sk-toggleable__control:checked~div.sk-toggleable__content {max-height: 200px;max-width: 100%;overflow: auto;}#sk-container-id-1 input.sk-toggleable__control:checked~label.sk-toggleable__label-arrow:before {content: \"▾\";}#sk-container-id-1 div.sk-estimator input.sk-toggleable__control:checked~label.sk-toggleable__label {background-color: #d4ebff;}#sk-container-id-1 div.sk-label input.sk-toggleable__control:checked~label.sk-toggleable__label {background-color: #d4ebff;}#sk-container-id-1 input.sk-hidden--visually {border: 0;clip: rect(1px 1px 1px 1px);clip: rect(1px, 1px, 1px, 1px);height: 1px;margin: -1px;overflow: hidden;padding: 0;position: absolute;width: 1px;}#sk-container-id-1 div.sk-estimator {font-family: monospace;background-color: #f0f8ff;border: 1px dotted black;border-radius: 0.25em;box-sizing: border-box;margin-bottom: 0.5em;}#sk-container-id-1 div.sk-estimator:hover {background-color: #d4ebff;}#sk-container-id-1 div.sk-parallel-item::after {content: \"\";width: 100%;border-bottom: 1px solid gray;flex-grow: 1;}#sk-container-id-1 div.sk-label:hover label.sk-toggleable__label {background-color: #d4ebff;}#sk-container-id-1 div.sk-serial::before {content: \"\";position: absolute;border-left: 1px solid gray;box-sizing: border-box;top: 0;bottom: 0;left: 50%;z-index: 0;}#sk-container-id-1 div.sk-serial {display: flex;flex-direction: column;align-items: center;background-color: white;padding-right: 0.2em;padding-left: 0.2em;position: relative;}#sk-container-id-1 div.sk-item {position: relative;z-index: 1;}#sk-container-id-1 div.sk-parallel {display: flex;align-items: stretch;justify-content: center;background-color: white;position: relative;}#sk-container-id-1 div.sk-item::before, #sk-container-id-1 div.sk-parallel-item::before {content: \"\";position: absolute;border-left: 1px solid gray;box-sizing: border-box;top: 0;bottom: 0;left: 50%;z-index: -1;}#sk-container-id-1 div.sk-parallel-item {display: flex;flex-direction: column;z-index: 1;position: relative;background-color: white;}#sk-container-id-1 div.sk-parallel-item:first-child::after {align-self: flex-end;width: 50%;}#sk-container-id-1 div.sk-parallel-item:last-child::after {align-self: flex-start;width: 50%;}#sk-container-id-1 div.sk-parallel-item:only-child::after {width: 0;}#sk-container-id-1 div.sk-dashed-wrapped {border: 1px dashed gray;margin: 0 0.4em 0.5em 0.4em;box-sizing: border-box;padding-bottom: 0.4em;background-color: white;}#sk-container-id-1 div.sk-label label {font-family: monospace;font-weight: bold;display: inline-block;line-height: 1.2em;}#sk-container-id-1 div.sk-label-container {text-align: center;}#sk-container-id-1 div.sk-container {/* jupyter's `normalize.less` sets `[hidden] { display: none; }` but bootstrap.min.css set `[hidden] { display: none !important; }` so we also need the `!important` here to be able to override the default hidden behavior on the sphinx rendered scikit-learn.org. See: https://github.com/scikit-learn/scikit-learn/issues/21755 */display: inline-block !important;position: relative;}#sk-container-id-1 div.sk-text-repr-fallback {display: none;}</style><div id=\"sk-container-id-1\" class=\"sk-top-container\"><div class=\"sk-text-repr-fallback\"><pre>PassiveAggressiveClassifier(max_iter=50)</pre><b>In a Jupyter environment, please rerun this cell to show the HTML representation or trust the notebook. <br />On GitHub, the HTML representation is unable to render, please try loading this page with nbviewer.org.</b></div><div class=\"sk-container\" hidden><div class=\"sk-item\"><div class=\"sk-estimator sk-toggleable\"><input class=\"sk-toggleable__control sk-hidden--visually\" id=\"sk-estimator-id-1\" type=\"checkbox\" checked><label for=\"sk-estimator-id-1\" class=\"sk-toggleable__label sk-toggleable__label-arrow\">PassiveAggressiveClassifier</label><div class=\"sk-toggleable__content\"><pre>PassiveAggressiveClassifier(max_iter=50)</pre></div></div></div></div></div>"
      ],
      "text/plain": [
       "PassiveAggressiveClassifier(max_iter=50)"
      ]
     },
     "execution_count": 11,
     "metadata": {},
     "output_type": "execute_result"
    }
   ],
   "source": [
    "# Initialise and Apply the Classifier\n",
    "classifier = PassiveAggressiveClassifier(max_iter=50)\n",
    "classifier.fit(feature_train, training_y)"
   ]
  },
  {
   "cell_type": "code",
   "execution_count": 12,
   "id": "e95e2cd6",
   "metadata": {},
   "outputs": [
    {
     "name": "stdout",
     "output_type": "stream",
     "text": [
      "Accuracy:  91.5038618809632\n"
     ]
    }
   ],
   "source": [
    "# Test the classifier\n",
    "prediction = classifier.predict(feature_test)\n",
    "score = accuracy_score(testing_y, prediction)\n",
    "\n",
    "print(\"Accuracy: \", score*100)"
   ]
  },
  {
   "cell_type": "code",
   "execution_count": 13,
   "id": "06f83538",
   "metadata": {},
   "outputs": [
    {
     "data": {
      "text/html": [
       "<div>\n",
       "<style scoped>\n",
       "    .dataframe tbody tr th:only-of-type {\n",
       "        vertical-align: middle;\n",
       "    }\n",
       "\n",
       "    .dataframe tbody tr th {\n",
       "        vertical-align: top;\n",
       "    }\n",
       "\n",
       "    .dataframe thead th {\n",
       "        text-align: right;\n",
       "    }\n",
       "</style>\n",
       "<table border=\"1\" class=\"dataframe\">\n",
       "  <thead>\n",
       "    <tr style=\"text-align: right;\">\n",
       "      <th></th>\n",
       "      <th>Unnamed: 0</th>\n",
       "      <th>Unnamed: 1</th>\n",
       "      <th>title</th>\n",
       "      <th>text</th>\n",
       "      <th>label</th>\n",
       "    </tr>\n",
       "  </thead>\n",
       "  <tbody>\n",
       "    <tr>\n",
       "      <th>0</th>\n",
       "      <td>914</td>\n",
       "      <td>7014</td>\n",
       "      <td>Trumps Hollywood Walk of Fame star Destroyed w...</td>\n",
       "      <td>Trump's Hollywood Walk of Fame star Destroyed ...</td>\n",
       "      <td>FAKE</td>\n",
       "    </tr>\n",
       "    <tr>\n",
       "      <th>1</th>\n",
       "      <td>4058</td>\n",
       "      <td>6440</td>\n",
       "      <td>Corporate Army smashes Dakota barbarians near ...</td>\n",
       "      <td>Corporate Army smashes Dakota barbarians near ...</td>\n",
       "      <td>FAKE</td>\n",
       "    </tr>\n",
       "    <tr>\n",
       "      <th>2</th>\n",
       "      <td>4982</td>\n",
       "      <td>6125</td>\n",
       "      <td>German Panzers to Rumble Once More Along Russi...</td>\n",
       "      <td>Citizen journalism with a punch German Panzers...</td>\n",
       "      <td>FAKE</td>\n",
       "    </tr>\n",
       "    <tr>\n",
       "      <th>3</th>\n",
       "      <td>800</td>\n",
       "      <td>8389</td>\n",
       "      <td>Contaminated Food from China Now Entering the ...</td>\n",
       "      <td>Contaminated Food from China Now Entering the ...</td>\n",
       "      <td>FAKE</td>\n",
       "    </tr>\n",
       "    <tr>\n",
       "      <th>4</th>\n",
       "      <td>4871</td>\n",
       "      <td>976</td>\n",
       "      <td>Cruz likely to block Trump on a second ballot ...</td>\n",
       "      <td>Republican presidential candidate Ted Cruz is ...</td>\n",
       "      <td>REAL</td>\n",
       "    </tr>\n",
       "  </tbody>\n",
       "</table>\n",
       "</div>"
      ],
      "text/plain": [
       "   Unnamed: 0  Unnamed: 1                                              title  \\\n",
       "0         914        7014  Trumps Hollywood Walk of Fame star Destroyed w...   \n",
       "1        4058        6440  Corporate Army smashes Dakota barbarians near ...   \n",
       "2        4982        6125  German Panzers to Rumble Once More Along Russi...   \n",
       "3         800        8389  Contaminated Food from China Now Entering the ...   \n",
       "4        4871         976  Cruz likely to block Trump on a second ballot ...   \n",
       "\n",
       "                                                text label  \n",
       "0  Trump's Hollywood Walk of Fame star Destroyed ...  FAKE  \n",
       "1  Corporate Army smashes Dakota barbarians near ...  FAKE  \n",
       "2  Citizen journalism with a punch German Panzers...  FAKE  \n",
       "3  Contaminated Food from China Now Entering the ...  FAKE  \n",
       "4  Republican presidential candidate Ted Cruz is ...  REAL  "
      ]
     },
     "execution_count": 13,
     "metadata": {},
     "output_type": "execute_result"
    }
   ],
   "source": [
    "# Load the Test Data\n",
    "test_data = pd.read_csv('dataset/test_data.csv')\n",
    "test_labels = test_data.label\n",
    "test_data.head()"
   ]
  },
  {
   "cell_type": "code",
   "execution_count": 14,
   "id": "8343561b",
   "metadata": {},
   "outputs": [],
   "source": [
    "# Select Features and Get Predictions\n",
    "test_data_feature = count_vectorizer.transform(test_data['text'])\n",
    "prediction = classifier.predict(test_data_feature)"
   ]
  },
  {
   "cell_type": "code",
   "execution_count": 15,
   "id": "3d072278",
   "metadata": {},
   "outputs": [
    {
     "name": "stdout",
     "output_type": "stream",
     "text": [
      "FAKE FAKE\n",
      "FAKE FAKE\n",
      "FAKE FAKE\n",
      "FAKE FAKE\n",
      "REAL REAL\n",
      "FAKE FAKE\n",
      "REAL REAL\n",
      "FAKE FAKE\n",
      "FAKE FAKE\n",
      "FAKE FAKE\n",
      "FAKE FAKE\n",
      "REAL REAL\n",
      "FAKE FAKE\n",
      "REAL REAL\n",
      "FAKE FAKE\n",
      "REAL REAL\n",
      "REAL REAL\n",
      "FAKE FAKE\n",
      "REAL REAL\n",
      "FAKE FAKE\n",
      "Accuracy:  100.0 %\n"
     ]
    }
   ],
   "source": [
    "# Evaluate the Predictions\n",
    "for i in range(len(test_labels)):\n",
    "    print(test_labels[i], prediction[i])\n",
    "\n",
    "score = accuracy_score(test_labels, prediction)\n",
    "print(\"Accuracy: \", score*100, \"%\")"
   ]
  },
  {
   "cell_type": "code",
   "execution_count": null,
   "id": "9867a1b3",
   "metadata": {},
   "outputs": [],
   "source": []
  }
 ],
 "metadata": {
  "kernelspec": {
   "display_name": "Python 3 (ipykernel)",
   "language": "python",
   "name": "python3"
  },
  "language_info": {
   "codemirror_mode": {
    "name": "ipython",
    "version": 3
   },
   "file_extension": ".py",
   "mimetype": "text/x-python",
   "name": "python",
   "nbconvert_exporter": "python",
   "pygments_lexer": "ipython3",
   "version": "3.10.6"
  }
 },
 "nbformat": 4,
 "nbformat_minor": 5
}
